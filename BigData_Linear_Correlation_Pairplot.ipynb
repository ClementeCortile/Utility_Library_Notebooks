{
  "nbformat": 4,
  "nbformat_minor": 0,
  "metadata": {
    "colab": {
      "name": "BigData_Linear_Correlation_Pairplot.ipynb",
      "version": "0.3.2",
      "provenance": [],
      "collapsed_sections": []
    },
    "kernelspec": {
      "name": "python3",
      "display_name": "Python 3"
    }
  },
  "cells": [
    {
      "cell_type": "markdown",
      "metadata": {
        "id": "QswhZxIbSKQE",
        "colab_type": "text"
      },
      "source": [
        "## Pairplots for data exploration are computationally expensive to plot visually on big datasets.\n",
        "\n",
        "## This notebook will explain how to build a utility library to check linear correlation across all the variable in an extremely large dataset.\n",
        "\n",
        "## The resulting output will be an heatmap instead of a classic pairplot/scatterplot and a dataframe containing the correlation for each pair of random variables"
      ]
    },
    {
      "cell_type": "code",
      "metadata": {
        "id": "HoaZyzuLqrbc",
        "colab_type": "code",
        "colab": {}
      },
      "source": [
        "import math\n",
        "from itertools import combinations\n",
        "import numpy as np\n",
        "import pandas as pd\n",
        "import matplotlib.pyplot as plt\n",
        "import seaborn as sns\n",
        "import statsmodels.formula.api as sm"
      ],
      "execution_count": 0,
      "outputs": []
    },
    {
      "cell_type": "code",
      "metadata": {
        "id": "csZ8RSp_q21e",
        "colab_type": "code",
        "colab": {}
      },
      "source": [
        "#Generating artificial data for testing\n",
        "import random\n",
        "\n",
        "class DataGen:\n",
        "  \"\"\"\n",
        "  Instantiates a datagenerating object.\n",
        "  On construction it generates the random variable of a given lenght\n",
        "  If specified, it generates a linear and a quadratic transformation of said\n",
        "  variable\n",
        "  \"\"\"\n",
        "  \n",
        "  #Class attributes\n",
        "  \n",
        "  #Class constructor\n",
        "  def __init__(self, n:int, length: int, dim: int):\n",
        "    #Attributes\n",
        "    self.n = n\n",
        "    self.length = length\n",
        "    self.dim = dim\n",
        "    #Selfrunning methods\n",
        "    self.datatype_check()\n",
        "    self.X = self.generate()\n",
        "    self.X_lin = self.generate_lin()\n",
        "    self.X_quad = self.generate_quad()\n",
        "    self.X_cube = self.generate_cube()\n",
        "\n",
        "    \n",
        "  def datatype_check(self):\n",
        "    \"\"\"\n",
        "    Check if the class constructor is invoked correctly\n",
        "    \"\"\"\n",
        "    if not((type(self.n) == type(1))):\n",
        "      raise ValueError('Lenght must be an int. Error:', type(self.n))\n",
        "      \n",
        "    elif not((type(self.length) == type(1))):\n",
        "      raise ValueError('Lenght must be an int. Error:', type(self.length))\n",
        "    \n",
        "    #Polynomial degree must be between 1 and 3\n",
        "    elif (self.dim < 1 ) and (self.dim > 3):\n",
        "      raise ValueError('Polynomial degree must be between 1 and 3', self.dim)\n",
        "      \n",
        "    print('DataType check correct: Constructor initialized')\n",
        "    print(' ')\n",
        "    \n",
        "  def generate(self):\n",
        "    \"\"\"\n",
        "    Generating random variable x of specified lenght with int between 1 and 100\n",
        "    \"\"\"\n",
        "    print('Generating random variable X - Length:', self.length)\n",
        "    self.X = []\n",
        "    for i in range(0,self.length):\n",
        "      i = random.randint(1,self.n)\n",
        "      self.X.append(i)\n",
        "    print('X: ', self.X[:10])\n",
        "    print(' ')\n",
        "    return self.X\n",
        "  \n",
        "  def generate_lin(self):\n",
        "    if (self.dim >= 1):\n",
        "      temp = random.randint(1,10)\n",
        "      self.X_lin = [i * temp for i in self.X]\n",
        "      print('Generating Linear Transformation - random', temp )\n",
        "      print('X_lin: ', self.X_lin[:10])\n",
        "      print(' ')\n",
        "      return self.X_lin\n",
        "    else:\n",
        "      print('No linear transformation - X_lin is empty')\n",
        "      print(' ')\n",
        "      self.X_lin = []\n",
        "      return self.X_lin\n",
        "\n",
        "  def generate_quad(self):\n",
        "    if (self.dim > 1):\n",
        "      self.X_quad = [i**2 for i in self.X]\n",
        "      print('Generating Quad Transformation')\n",
        "      print('X_quad: ', self.X_quad[:10])\n",
        "      print(' ')\n",
        "      return self.X_quad\n",
        "    else:\n",
        "      print('No Quad transformation - X_quad is empty')\n",
        "      self.X_quad = []\n",
        "      return self.X_quad\n",
        "    \n",
        "  def generate_cube(self):\n",
        "    if (self.dim == 3):\n",
        "      self.X_cube = [i**3 for i in self.X]\n",
        "      print('Generating Cubic Transformation')\n",
        "      print('X_cube: ', self.X_cube[:10])\n",
        "      print(' ')\n",
        "      return self.X_cube\n",
        "    else:\n",
        "      print('No Cubic transformation - X_cube is empty')\n",
        "      self.X_cube = []\n",
        "      return self.X_cube"
      ],
      "execution_count": 0,
      "outputs": []
    },
    {
      "cell_type": "code",
      "metadata": {
        "id": "d0xrJ53Gru53",
        "colab_type": "code",
        "outputId": "b5eeca69-c65f-4c56-b73f-bd5047be9589",
        "colab": {
          "base_uri": "https://localhost:8080/",
          "height": 255
        }
      },
      "source": [
        "#Generating Artificial Data - 5 million rows\n",
        "data = DataGen(100,500, 3)"
      ],
      "execution_count": 9,
      "outputs": [
        {
          "output_type": "stream",
          "text": [
            "DataType check correct: Constructor initialized\n",
            " \n",
            "Generating random variable X - Length: 500\n",
            "X:  [9, 5, 35, 97, 34, 97, 33, 96, 87, 69]\n",
            " \n",
            "Generating Linear Transformation - random 8\n",
            "X_lin:  [72, 40, 280, 776, 272, 776, 264, 768, 696, 552]\n",
            " \n",
            "Generating Quad Transformation\n",
            "X_quad:  [81, 25, 1225, 9409, 1156, 9409, 1089, 9216, 7569, 4761]\n",
            " \n",
            "Generating Cubic Transformation\n",
            "X_cube:  [729, 125, 42875, 912673, 39304, 912673, 35937, 884736, 658503, 328509]\n",
            " \n"
          ],
          "name": "stdout"
        }
      ]
    },
    {
      "cell_type": "code",
      "metadata": {
        "id": "KvTDnkT1_7Ym",
        "colab_type": "code",
        "colab": {}
      },
      "source": [
        "#Converting Data into a DataFrame\n",
        "dataframe = {\n",
        "    'A': data.X,\n",
        "    'A_lin': data.X_lin,\n",
        "    'A_quad': data.X_quad,\n",
        "    'A_cube': data.X_cube\n",
        "}\n",
        "df1 = pd.DataFrame.from_dict(dataframe)"
      ],
      "execution_count": 0,
      "outputs": []
    },
    {
      "cell_type": "code",
      "metadata": {
        "id": "W4kTwP8Lhual",
        "colab_type": "code",
        "colab": {}
      },
      "source": [
        ""
      ],
      "execution_count": 0,
      "outputs": []
    },
    {
      "cell_type": "code",
      "metadata": {
        "id": "RwrrnMNGKPeH",
        "colab_type": "code",
        "outputId": "2fd0dddc-efbc-49d7-fc22-9de65f302700",
        "colab": {
          "base_uri": "https://localhost:8080/",
          "height": 746
        }
      },
      "source": [
        "#Generating a pairplot of the first 1000 rows. Plotting 1000000 would take too long.\n",
        "sns.pairplot(df1[:1000])"
      ],
      "execution_count": 0,
      "outputs": [
        {
          "output_type": "execute_result",
          "data": {
            "text/plain": [
              "<seaborn.axisgrid.PairGrid at 0x7f20199bce80>"
            ]
          },
          "metadata": {
            "tags": []
          },
          "execution_count": 118
        },
        {
          "output_type": "display_data",
          "data": {
            "image/png": "[encoded data removed]",
            "text/plain": [
              "<Figure size 720x720 with 20 Axes>"
            ]
          },
          "metadata": {
            "tags": []
          }
        }
      ]
    },
    {
      "cell_type": "code",
      "metadata": {
        "id": "2WwI-s3nHmsT",
        "colab_type": "code",
        "outputId": "c80f9f4f-a3ee-4c58-e158-d4ccf8b0a6d3",
        "colab": {
          "base_uri": "https://localhost:8080/",
          "height": 510
        }
      },
      "source": [
        "#Running classic OLS to check for linearity between A and A_lin\n",
        "result = sm.ols(formula=\"A ~ A_lin\", data=df1).fit()\n",
        "print(result.summary())\n",
        "print(result.params)\n",
        "print(\"R-squared :\", result.rsquared)"
      ],
      "execution_count": 0,
      "outputs": [
        {
          "output_type": "stream",
          "text": [
            "                            OLS Regression Results                            \n",
            "==============================================================================\n",
            "Dep. Variable:                      A   R-squared:                       1.000\n",
            "Model:                            OLS   Adj. R-squared:                  1.000\n",
            "Method:                 Least Squares   F-statistic:                 6.119e+35\n",
            "Date:                Sat, 13 Jul 2019   Prob (F-statistic):               0.00\n",
            "Time:                        10:46:19   Log-Likelihood:             2.9512e+07\n",
            "No. Observations:             1000000   AIC:                        -5.902e+07\n",
            "Df Residuals:                  999998   BIC:                        -5.902e+07\n",
            "Df Model:                           1                                         \n",
            "Covariance Type:            nonrobust                                         \n",
            "==============================================================================\n",
            "                 coef    std err          t      P>|t|      [0.025      0.975]\n",
            "------------------------------------------------------------------------------\n",
            "Intercept  -2.824e-14   7.44e-17   -379.805      0.000   -2.84e-14   -2.81e-14\n",
            "A_lin          1.0000   1.28e-18   7.82e+17      0.000       1.000       1.000\n",
            "==============================================================================\n",
            "Omnibus:                  7298300.090   Durbin-Watson:                   0.036\n",
            "Prob(Omnibus):                  0.000   Jarque-Bera (JB):            87406.600\n",
            "Skew:                           0.069   Prob(JB):                         0.00\n",
            "Kurtosis:                       1.558   Cond. No.                         117.\n",
            "==============================================================================\n",
            "\n",
            "Warnings:\n",
            "[1] Standard Errors assume that the covariance matrix of the errors is correctly specified.\n",
            "Intercept   -2.824065e-14\n",
            "A_lin        1.000000e+00\n",
            "dtype: float64\n",
            "R-squared : 1.0\n"
          ],
          "name": "stdout"
        }
      ]
    },
    {
      "cell_type": "code",
      "metadata": {
        "id": "XE_pDHA5HqFb",
        "colab_type": "code",
        "outputId": "6595160c-7cbb-4ebe-81ac-f548d7d2fbb8",
        "colab": {
          "base_uri": "https://localhost:8080/",
          "height": 544
        }
      },
      "source": [
        "#Running classic OLS to check for linearity between A and A_quad\n",
        "result = sm.ols(formula=\"A ~ A_quad\", data=df1).fit()\n",
        "print(result.summary())\n",
        "print(result.params)\n",
        "print(\"R-squared :\", result.rsquared)"
      ],
      "execution_count": 0,
      "outputs": [
        {
          "output_type": "stream",
          "text": [
            "                            OLS Regression Results                            \n",
            "==============================================================================\n",
            "Dep. Variable:                      A   R-squared:                       0.939\n",
            "Model:                            OLS   Adj. R-squared:                  0.939\n",
            "Method:                 Least Squares   F-statistic:                 1.530e+07\n",
            "Date:                Sat, 13 Jul 2019   Prob (F-statistic):               0.00\n",
            "Time:                        10:46:20   Log-Likelihood:            -3.3859e+06\n",
            "No. Observations:             1000000   AIC:                         6.772e+06\n",
            "Df Residuals:                  999998   BIC:                         6.772e+06\n",
            "Df Model:                           1                                         \n",
            "Covariance Type:            nonrobust                                         \n",
            "==============================================================================\n",
            "                 coef    std err          t      P>|t|      [0.025      0.975]\n",
            "------------------------------------------------------------------------------\n",
            "Intercept     19.0555      0.011   1771.616      0.000      19.034      19.077\n",
            "A_quad         0.0093   2.38e-06   3912.062      0.000       0.009       0.009\n",
            "==============================================================================\n",
            "Omnibus:                   100665.631   Durbin-Watson:                   1.996\n",
            "Prob(Omnibus):                  0.000   Jarque-Bera (JB):           104426.927\n",
            "Skew:                          -0.739   Prob(JB):                         0.00\n",
            "Kurtosis:                       2.434   Cond. No.                     6.81e+03\n",
            "==============================================================================\n",
            "\n",
            "Warnings:\n",
            "[1] Standard Errors assume that the covariance matrix of the errors is correctly specified.\n",
            "[2] The condition number is large, 6.81e+03. This might indicate that there are\n",
            "strong multicollinearity or other numerical problems.\n",
            "Intercept    19.055523\n",
            "A_quad        0.009293\n",
            "dtype: float64\n",
            "R-squared : 0.9386663213442216\n"
          ],
          "name": "stdout"
        }
      ]
    },
    {
      "cell_type": "code",
      "metadata": {
        "id": "BIiozy8iHxYj",
        "colab_type": "code",
        "outputId": "329c04e0-5190-4298-b2e3-f087994549fd",
        "colab": {
          "base_uri": "https://localhost:8080/",
          "height": 544
        }
      },
      "source": [
        "#Running classic OLS to check for linearity between A and A_cube\n",
        "result = sm.ols(formula=\"A ~ A_cube\", data=df1).fit()\n",
        "print(result.summary())\n",
        "print(result.params)\n",
        "print(\"R-squared :\", result.rsquared)"
      ],
      "execution_count": 0,
      "outputs": [
        {
          "output_type": "stream",
          "text": [
            "                            OLS Regression Results                            \n",
            "==============================================================================\n",
            "Dep. Variable:                      A   R-squared:                       0.842\n",
            "Model:                            OLS   Adj. R-squared:                  0.842\n",
            "Method:                 Least Squares   F-statistic:                 5.323e+06\n",
            "Date:                Sat, 13 Jul 2019   Prob (F-statistic):               0.00\n",
            "Time:                        10:46:22   Log-Likelihood:            -3.8595e+06\n",
            "No. Observations:             1000000   AIC:                         7.719e+06\n",
            "Df Residuals:                  999998   BIC:                         7.719e+06\n",
            "Df Model:                           1                                         \n",
            "Covariance Type:            nonrobust                                         \n",
            "==============================================================================\n",
            "                 coef    std err          t      P>|t|      [0.025      0.975]\n",
            "------------------------------------------------------------------------------\n",
            "Intercept     27.0377      0.015   1763.232      0.000      27.008      27.068\n",
            "A_cube      9.199e-05   3.99e-08   2307.235      0.000    9.19e-05    9.21e-05\n",
            "==============================================================================\n",
            "Omnibus:                   169633.534   Durbin-Watson:                   1.996\n",
            "Prob(Omnibus):                  0.000   Jarque-Bera (JB):            92530.208\n",
            "Skew:                          -0.606   Prob(JB):                         0.00\n",
            "Kurtosis:                       2.133   Cond. No.                     5.14e+05\n",
            "==============================================================================\n",
            "\n",
            "Warnings:\n",
            "[1] Standard Errors assume that the covariance matrix of the errors is correctly specified.\n",
            "[2] The condition number is large, 5.14e+05. This might indicate that there are\n",
            "strong multicollinearity or other numerical problems.\n",
            "Intercept    27.037711\n",
            "A_cube        0.000092\n",
            "dtype: float64\n",
            "R-squared : 0.841855832435468\n"
          ],
          "name": "stdout"
        }
      ]
    },
    {
      "cell_type": "code",
      "metadata": {
        "id": "HLdpW7DqI3Jb",
        "colab_type": "code",
        "colab": {}
      },
      "source": [
        "#Creating a function that would give information between the variables in a dataset using OLS."
      ],
      "execution_count": 0,
      "outputs": []
    },
    {
      "cell_type": "code",
      "metadata": {
        "id": "NHWmfLw7LDv5",
        "colab_type": "code",
        "outputId": "11226919-843e-426a-f8b9-1fa0b710ea40",
        "colab": {
          "base_uri": "https://localhost:8080/",
          "height": 34
        }
      },
      "source": [
        "result = sm.ols(formula=\"A ~ A_cube\", data=df1).fit()\n",
        "result.rsquared"
      ],
      "execution_count": 0,
      "outputs": [
        {
          "output_type": "execute_result",
          "data": {
            "text/plain": [
              "0.8419695946119652"
            ]
          },
          "metadata": {
            "tags": []
          },
          "execution_count": 9
        }
      ]
    },
    {
      "cell_type": "code",
      "metadata": {
        "id": "3Poh_RXULNWz",
        "colab_type": "code",
        "outputId": "8dd967d7-3a1c-48b2-c340-b1664334a17e",
        "colab": {
          "base_uri": "https://localhost:8080/",
          "height": 34
        }
      },
      "source": [
        "#Let's check how many variables are there in the dataframe\n",
        "n = len(df1.columns)\n",
        "#and store their names\n",
        "variables = df1.columns\n",
        "#Let's run a regression between each variable ( n choose k, combinatorial function. But k is always equal to 2)\n",
        "def nCk(n):\n",
        "    f = math.factorial\n",
        "    return int(f(n) / f(2) / f(n-2))\n",
        "#That's just a check, let's use\n",
        "comb = [\",\".join(map(str, comb)) for comb in combinations(variables, 2)]\n",
        "#And to be sure:\n",
        "print(len(comb) == (nCk(n)))"
      ],
      "execution_count": 0,
      "outputs": [
        {
          "output_type": "stream",
          "text": [
            "True\n"
          ],
          "name": "stdout"
        }
      ]
    },
    {
      "cell_type": "code",
      "metadata": {
        "id": "bfYvIH0mM5iM",
        "colab_type": "code",
        "outputId": "6065cad1-10de-4547-fb24-2ad80a1b3ca1",
        "colab": {
          "base_uri": "https://localhost:8080/",
          "height": 221
        }
      },
      "source": [
        "#Let's run a linear regression for each distinct pair of random variables\n",
        "res = []\n",
        "for i in comb:\n",
        "  temp1 = (i.split(',')[0])\n",
        "  temp2 = (i.split(',')[1])\n",
        "  frm = (temp1 + \" ~ \"+ temp2)\n",
        "  print(frm)\n",
        "  result = sm.ols(formula=frm, data=df1).fit()\n",
        "  print(result.rsquared)\n",
        "  res.append(result.rsquared)"
      ],
      "execution_count": 0,
      "outputs": [
        {
          "output_type": "stream",
          "text": [
            "A ~ A_lin\n",
            "1.0\n",
            "A ~ A_quad\n",
            "0.9386663213442216\n",
            "A ~ A_cube\n",
            "0.841855832435468\n",
            "A_lin ~ A_quad\n",
            "0.9386663213442216\n",
            "A_lin ~ A_cube\n",
            "0.841855832435468\n",
            "A_quad ~ A_cube\n",
            "0.9723563201404251\n"
          ],
          "name": "stdout"
        }
      ]
    },
    {
      "cell_type": "code",
      "metadata": {
        "id": "5E07Mb4ZnxlH",
        "colab_type": "code",
        "colab": {}
      },
      "source": [
        "#Converting the results into percentage points\n",
        "res_int = []\n",
        "for i in res:\n",
        "  res_int.append(i*100)"
      ],
      "execution_count": 0,
      "outputs": []
    },
    {
      "cell_type": "code",
      "metadata": {
        "id": "X-yVBkGcM8Mc",
        "colab_type": "code",
        "colab": {}
      },
      "source": [
        "#Defining a function that converts a list into a lower triangular numpy matrix \n",
        "#Credits to: https://stackoverflow.com/questions/51439271/convert-1d-array-to-lower-triangular-matrix\n",
        "\n",
        "def fill_lower_diag(a):\n",
        "    n = int(np.sqrt(len(a)*2))+1\n",
        "    mask = np.tri(n,dtype=bool, k=-1) # or np.arange(n)[:,None] > np.arange(n)\n",
        "    out = np.zeros((n,n),dtype=int)\n",
        "    out[mask] = a\n",
        "    return out"
      ],
      "execution_count": 0,
      "outputs": []
    },
    {
      "cell_type": "code",
      "metadata": {
        "id": "0O8TGn__OVcc",
        "colab_type": "code",
        "colab": {}
      },
      "source": [
        "#Building the lower triangular matrix\n",
        "lower = fill_lower_diag(res_int)\n",
        "#Transposing it to create the upper triangular matrix counterpart and adding them together\n",
        "full = lower + lower.T\n",
        "#Filling the diagonal with perfect linear correlation score = 100%\n",
        "np.fill_diagonal(full, 100)\n",
        "#Assembling dataframe\n",
        "output_dataframe = pd.DataFrame(data=full, columns=df1.columns, index=df1.columns)"
      ],
      "execution_count": 0,
      "outputs": []
    },
    {
      "cell_type": "code",
      "metadata": {
        "id": "IWs2u6Clen22",
        "colab_type": "code",
        "outputId": "95f32c74-fa29-4ccd-e6d0-3479cf0b309e",
        "colab": {
          "base_uri": "https://localhost:8080/",
          "height": 173
        }
      },
      "source": [
        "#Result\n",
        "output_dataframe"
      ],
      "execution_count": 0,
      "outputs": [
        {
          "output_type": "execute_result",
          "data": {
            "text/html": [
              "<div>\n",
              "<style scoped>\n",
              "    .dataframe tbody tr th:only-of-type {\n",
              "        vertical-align: middle;\n",
              "    }\n",
              "\n",
              "    .dataframe tbody tr th {\n",
              "        vertical-align: top;\n",
              "    }\n",
              "\n",
              "    .dataframe thead th {\n",
              "        text-align: right;\n",
              "    }\n",
              "</style>\n",
              "<table border=\"1\" class=\"dataframe\">\n",
              "  <thead>\n",
              "    <tr style=\"text-align: right;\">\n",
              "      <th></th>\n",
              "      <th>A</th>\n",
              "      <th>A_lin</th>\n",
              "      <th>A_quad</th>\n",
              "      <th>A_cube</th>\n",
              "    </tr>\n",
              "  </thead>\n",
              "  <tbody>\n",
              "    <tr>\n",
              "      <th>A</th>\n",
              "      <td>100</td>\n",
              "      <td>100</td>\n",
              "      <td>93</td>\n",
              "      <td>93</td>\n",
              "    </tr>\n",
              "    <tr>\n",
              "      <th>A_lin</th>\n",
              "      <td>100</td>\n",
              "      <td>100</td>\n",
              "      <td>84</td>\n",
              "      <td>84</td>\n",
              "    </tr>\n",
              "    <tr>\n",
              "      <th>A_quad</th>\n",
              "      <td>93</td>\n",
              "      <td>84</td>\n",
              "      <td>100</td>\n",
              "      <td>97</td>\n",
              "    </tr>\n",
              "    <tr>\n",
              "      <th>A_cube</th>\n",
              "      <td>93</td>\n",
              "      <td>84</td>\n",
              "      <td>97</td>\n",
              "      <td>100</td>\n",
              "    </tr>\n",
              "  </tbody>\n",
              "</table>\n",
              "</div>"
            ],
            "text/plain": [
              "          A  A_lin  A_quad  A_cube\n",
              "A       100    100      93      93\n",
              "A_lin   100    100      84      84\n",
              "A_quad   93     84     100      97\n",
              "A_cube   93     84      97     100"
            ]
          },
          "metadata": {
            "tags": []
          },
          "execution_count": 224
        }
      ]
    },
    {
      "cell_type": "code",
      "metadata": {
        "id": "_0Hy9pMlNRB4",
        "colab_type": "code",
        "outputId": "8d39c2e2-2d1f-4105-9d7f-5cea05ffc5e5",
        "colab": {
          "base_uri": "https://localhost:8080/",
          "height": 282
        }
      },
      "source": [
        "#Converting the results to an heatmap\n",
        "ax = plt.axes()\n",
        "sns.heatmap(output_dataframe, vmin=0, vmax=100, annot=True, fmt=\"d\", linewidths=.5)\n",
        "ax.set_title('Linear Correlation across variables')\n",
        "None"
      ],
      "execution_count": 0,
      "outputs": [
        {
          "output_type": "display_data",
          "data": {
            "image/png": "[encoded data removed]",
            "text/plain": [
              "<Figure size 432x288 with 2 Axes>"
            ]
          },
          "metadata": {
            "tags": []
          }
        }
      ]
    },
    {
      "cell_type": "code",
      "metadata": {
        "id": "d_tfN2O9WDaH",
        "colab_type": "code",
        "colab": {}
      },
      "source": [
        ""
      ],
      "execution_count": 0,
      "outputs": []
    }
  ]
}