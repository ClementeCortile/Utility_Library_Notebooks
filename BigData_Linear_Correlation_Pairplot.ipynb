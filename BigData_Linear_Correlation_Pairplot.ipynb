{
  "nbformat": 4,
  "nbformat_minor": 0,
  "metadata": {
    "colab": {
      "name": "BigData_Linear_Correlation_Pairplot.ipynb",
      "version": "0.3.2",
      "provenance": [],
      "collapsed_sections": []
    },
    "kernelspec": {
      "name": "python3",
      "display_name": "Python 3"
    }
  },
  "cells": [
    {
      "cell_type": "markdown",
      "metadata": {
        "id": "QswhZxIbSKQE",
        "colab_type": "text"
      },
      "source": [
        "## Pairplots for data exploration are computationally expensive to plot visually on big datasets.\n",
        "\n",
        "## This notebook will explain how to build a utility library to check linear correlation across all the variable in an extremely large dataset.\n",
        "\n",
        "## The resulting output will be an heatmap instead of a classic pairplot/scatterplot and a dataframe containing the correlation for each pair of random variables"
      ]
    },
    {
      "cell_type": "code",
      "metadata": {
        "id": "HoaZyzuLqrbc",
        "colab_type": "code",
        "colab": {}
      },
      "source": [
        "import math\n",
        "from itertools import combinations\n",
        "import numpy as np\n",
        "import pandas as pd\n",
        "import matplotlib.pyplot as plt\n",
        "import seaborn as sns\n",
        "import statsmodels.formula.api as sm"
      ],
      "execution_count": 0,
      "outputs": []
    },
    {
      "cell_type": "code",
      "metadata": {
        "id": "csZ8RSp_q21e",
        "colab_type": "code",
        "colab": {}
      },
      "source": [
        "#Generating artificial data for testing\n",
        "import random\n",
        "\n",
        "class DataGen:\n",
        "  \"\"\"\n",
        "  Instantiates a datagenerating object.\n",
        "  On construction it generates the random variable of a given lenght\n",
        "  If specified, it generates a linear and a quadratic transformation of said\n",
        "  variable\n",
        "  \"\"\"\n",
        "  \n",
        "  #Class attributes\n",
        "  \n",
        "  #Class constructor\n",
        "  def __init__(self, n:int, length: int, dim: int):\n",
        "    #Attributes\n",
        "    self.n = n\n",
        "    self.length = length\n",
        "    self.dim = dim\n",
        "    #Selfrunning methods\n",
        "    self.datatype_check()\n",
        "    self.X = self.generate()\n",
        "    self.X_lin = self.generate_lin()\n",
        "    self.X_quad = self.generate_quad()\n",
        "    self.X_cube = self.generate_cube()\n",
        "\n",
        "    \n",
        "  def datatype_check(self):\n",
        "    \"\"\"\n",
        "    Check if the class constructor is invoked correctly\n",
        "    \"\"\"\n",
        "    if not((type(self.n) == type(1))):\n",
        "      raise ValueError('Lenght must be an int. Error:', type(self.n))\n",
        "      \n",
        "    elif not((type(self.length) == type(1))):\n",
        "      raise ValueError('Lenght must be an int. Error:', type(self.length))\n",
        "    \n",
        "    #Polynomial degree must be between 1 and 3\n",
        "    elif (self.dim < 1 ) and (self.dim > 3):\n",
        "      raise ValueError('Polynomial degree must be between 1 and 3', self.dim)\n",
        "      \n",
        "    print('DataType check correct: Constructor initialized')\n",
        "    print(' ')\n",
        "    \n",
        "  def generate(self):\n",
        "    \"\"\"\n",
        "    Generating random variable x of specified lenght with int between 1 and 100\n",
        "    \"\"\"\n",
        "    print('Generating random variable X - Length:', self.length)\n",
        "    self.X = []\n",
        "    for i in range(0,self.length):\n",
        "      i = random.randint(1,self.n)\n",
        "      self.X.append(i)\n",
        "    print('X: ', self.X[:10])\n",
        "    print(' ')\n",
        "    return self.X\n",
        "  \n",
        "  def generate_lin(self):\n",
        "    if (self.dim >= 1):\n",
        "      temp = random.randint(1,10)\n",
        "      self.X_lin = [i * temp for i in self.X]\n",
        "      print('Generating Linear Transformation - random', temp )\n",
        "      print('X_lin: ', self.X_lin[:10])\n",
        "      print(' ')\n",
        "      return self.X_lin\n",
        "    else:\n",
        "      print('No linear transformation - X_lin is empty')\n",
        "      print(' ')\n",
        "      self.X_lin = []\n",
        "      return self.X_lin\n",
        "\n",
        "  def generate_quad(self):\n",
        "    if (self.dim > 1):\n",
        "      self.X_quad = [i**2 for i in self.X]\n",
        "      print('Generating Quad Transformation')\n",
        "      print('X_quad: ', self.X_quad[:10])\n",
        "      print(' ')\n",
        "      return self.X_quad\n",
        "    else:\n",
        "      print('No Quad transformation - X_quad is empty')\n",
        "      self.X_quad = []\n",
        "      return self.X_quad\n",
        "    \n",
        "  def generate_cube(self):\n",
        "    if (self.dim == 3):\n",
        "      self.X_cube = [i**3 for i in self.X]\n",
        "      print('Generating Cubic Transformation')\n",
        "      print('X_cube: ', self.X_cube[:10])\n",
        "      print(' ')\n",
        "      return self.X_cube\n",
        "    else:\n",
        "      print('No Cubic transformation - X_cube is empty')\n",
        "      self.X_cube = []\n",
        "      return self.X_cube"
      ],
      "execution_count": 0,
      "outputs": []
    },
    {
      "cell_type": "code",
      "metadata": {
        "id": "d0xrJ53Gru53",
        "colab_type": "code",
        "outputId": "52d9e794-5765-49e9-fa58-f72e5a4664b9",
        "colab": {
          "base_uri": "https://localhost:8080/",
          "height": 255
        }
      },
      "source": [
        "#Generating Artificial Data - 5 million rows\n",
        "data = DataGen(100,5000000,3)"
      ],
      "execution_count": 10,
      "outputs": [
        {
          "output_type": "stream",
          "text": [
            "DataType check correct: Constructor initialized\n",
            " \n",
            "Generating random variable X - Length: 5000000\n",
            "X:  [41, 77, 89, 73, 20, 18, 72, 44, 55, 68]\n",
            " \n",
            "Generating Linear Transformation - random 2\n",
            "X_lin:  [82, 154, 178, 146, 40, 36, 144, 88, 110, 136]\n",
            " \n",
            "Generating Quad Transformation\n",
            "X_quad:  [1681, 5929, 7921, 5329, 400, 324, 5184, 1936, 3025, 4624]\n",
            " \n",
            "Generating Cubic Transformation\n",
            "X_cube:  [68921, 456533, 704969, 389017, 8000, 5832, 373248, 85184, 166375, 314432]\n",
            " \n"
          ],
          "name": "stdout"
        }
      ]
    },
    {
      "cell_type": "code",
      "metadata": {
        "id": "KvTDnkT1_7Ym",
        "colab_type": "code",
        "colab": {}
      },
      "source": [
        "#Converting Data into a DataFrame\n",
        "dataframe = {\n",
        "    'A': data.X,\n",
        "    'A_lin': data.X_lin,\n",
        "    'A_quad': data.X_quad,\n",
        "    'A_cube': data.X_cube\n",
        "}\n",
        "df1 = pd.DataFrame.from_dict(dataframe)"
      ],
      "execution_count": 0,
      "outputs": []
    },
    {
      "cell_type": "code",
      "metadata": {
        "id": "RwrrnMNGKPeH",
        "colab_type": "code",
        "outputId": "9ea98b21-e9b0-46cc-99e1-c1d4673a2fe5",
        "colab": {
          "base_uri": "https://localhost:8080/",
          "height": 746
        }
      },
      "source": [
        "#Generating a pairplot of the first 1000 rows. Plotting 5000000 would take too long.\n",
        "sns.pairplot(df1[:1000])"
      ],
      "execution_count": 12,
      "outputs": [
        {
          "output_type": "execute_result",
          "data": {
            "text/plain": [
              "<seaborn.axisgrid.PairGrid at 0x7f3abab0bc50>"
            ]
          },
          "metadata": {
            "tags": []
          },
          "execution_count": 12
        },
        {
          "output_type": "display_data",
          "data": {
            "image/png": "[encoded data removed]",
            "text/plain": [
              "<Figure size 720x720 with 20 Axes>"
            ]
          },
          "metadata": {
            "tags": []
          }
        }
      ]
    },
    {
      "cell_type": "code",
      "metadata": {
        "id": "2WwI-s3nHmsT",
        "colab_type": "code",
        "outputId": "75760ce0-1bce-43aa-f81e-3799d5e6df4b",
        "colab": {
          "base_uri": "https://localhost:8080/",
          "height": 510
        }
      },
      "source": [
        "#Running classic OLS to check for linearity between A and A_lin\n",
        "result = sm.ols(formula=\"A ~ A_lin\", data=df1).fit()\n",
        "print(result.summary())\n",
        "print(result.params)\n",
        "print(\"R-squared :\", result.rsquared)"
      ],
      "execution_count": 13,
      "outputs": [
        {
          "output_type": "stream",
          "text": [
            "                            OLS Regression Results                            \n",
            "==============================================================================\n",
            "Dep. Variable:                      A   R-squared:                       1.000\n",
            "Model:                            OLS   Adj. R-squared:                  1.000\n",
            "Method:                 Least Squares   F-statistic:                 6.123e+35\n",
            "Date:                Mon, 15 Jul 2019   Prob (F-statistic):               0.00\n",
            "Time:                        16:50:05   Log-Likelihood:             1.4354e+08\n",
            "No. Observations:             5000000   AIC:                        -2.871e+08\n",
            "Df Residuals:                 4999998   BIC:                        -2.871e+08\n",
            "Df Model:                           1                                         \n",
            "Covariance Type:            nonrobust                                         \n",
            "==============================================================================\n",
            "                 coef    std err          t      P>|t|      [0.025      0.975]\n",
            "------------------------------------------------------------------------------\n",
            "Intercept   4.452e-14   7.44e-17    598.753      0.000    4.44e-14    4.47e-14\n",
            "A_lin          0.5000   6.39e-19   7.82e+17      0.000       0.500       0.500\n",
            "==============================================================================\n",
            "Omnibus:                  4664557.504   Durbin-Watson:                   1.020\n",
            "Prob(Omnibus):                  0.000   Jarque-Bera (JB):           302593.466\n",
            "Skew:                           0.003   Prob(JB):                         0.00\n",
            "Kurtosis:                       1.795   Cond. No.                         235.\n",
            "==============================================================================\n",
            "\n",
            "Warnings:\n",
            "[1] Standard Errors assume that the covariance matrix of the errors is correctly specified.\n",
            "Intercept    4.452088e-14\n",
            "A_lin        5.000000e-01\n",
            "dtype: float64\n",
            "R-squared : 1.0\n"
          ],
          "name": "stdout"
        }
      ]
    },
    {
      "cell_type": "code",
      "metadata": {
        "id": "XE_pDHA5HqFb",
        "colab_type": "code",
        "outputId": "456121d6-7737-42d9-ba46-dc8b33c6d8e3",
        "colab": {
          "base_uri": "https://localhost:8080/",
          "height": 544
        }
      },
      "source": [
        "#Running classic OLS to check for linearity between A and A_quad\n",
        "result = sm.ols(formula=\"A ~ A_quad\", data=df1).fit()\n",
        "print(result.summary())\n",
        "print(result.params)\n",
        "print(\"R-squared :\", result.rsquared)"
      ],
      "execution_count": 14,
      "outputs": [
        {
          "output_type": "stream",
          "text": [
            "                            OLS Regression Results                            \n",
            "==============================================================================\n",
            "Dep. Variable:                      A   R-squared:                       0.939\n",
            "Model:                            OLS   Adj. R-squared:                  0.939\n",
            "Method:                 Least Squares   F-statistic:                 7.654e+07\n",
            "Date:                Mon, 15 Jul 2019   Prob (F-statistic):               0.00\n",
            "Time:                        16:50:08   Log-Likelihood:            -1.6929e+07\n",
            "No. Observations:             5000000   AIC:                         3.386e+07\n",
            "Df Residuals:                 4999998   BIC:                         3.386e+07\n",
            "Df Model:                           1                                         \n",
            "Covariance Type:            nonrobust                                         \n",
            "==============================================================================\n",
            "                 coef    std err          t      P>|t|      [0.025      0.975]\n",
            "------------------------------------------------------------------------------\n",
            "Intercept     19.0608      0.005   3961.921      0.000      19.051      19.070\n",
            "A_quad         0.0093   1.06e-06   8748.933      0.000       0.009       0.009\n",
            "==============================================================================\n",
            "Omnibus:                   502145.796   Durbin-Watson:                   1.999\n",
            "Prob(Omnibus):                  0.000   Jarque-Bera (JB):           523058.838\n",
            "Skew:                          -0.741   Prob(JB):                         0.00\n",
            "Kurtosis:                       2.437   Cond. No.                     6.82e+03\n",
            "==============================================================================\n",
            "\n",
            "Warnings:\n",
            "[1] Standard Errors assume that the covariance matrix of the errors is correctly specified.\n",
            "[2] The condition number is large, 6.82e+03. This might indicate that there are\n",
            "strong multicollinearity or other numerical problems.\n",
            "Intercept    19.060809\n",
            "A_quad        0.009292\n",
            "dtype: float64\n",
            "R-squared : 0.938683310625673\n"
          ],
          "name": "stdout"
        }
      ]
    },
    {
      "cell_type": "code",
      "metadata": {
        "id": "BIiozy8iHxYj",
        "colab_type": "code",
        "outputId": "33a9d763-8edf-4191-c34b-fb8b574aa68f",
        "colab": {
          "base_uri": "https://localhost:8080/",
          "height": 544
        }
      },
      "source": [
        "#Running classic OLS to check for linearity between A and A_cube\n",
        "result = sm.ols(formula=\"A ~ A_cube\", data=df1).fit()\n",
        "print(result.summary())\n",
        "print(result.params)\n",
        "print(\"R-squared :\", result.rsquared)"
      ],
      "execution_count": 15,
      "outputs": [
        {
          "output_type": "stream",
          "text": [
            "                            OLS Regression Results                            \n",
            "==============================================================================\n",
            "Dep. Variable:                      A   R-squared:                       0.842\n",
            "Model:                            OLS   Adj. R-squared:                  0.842\n",
            "Method:                 Least Squares   F-statistic:                 2.663e+07\n",
            "Date:                Mon, 15 Jul 2019   Prob (F-statistic):               0.00\n",
            "Time:                        16:50:31   Log-Likelihood:            -1.9296e+07\n",
            "No. Observations:             5000000   AIC:                         3.859e+07\n",
            "Df Residuals:                 4999998   BIC:                         3.859e+07\n",
            "Df Model:                           1                                         \n",
            "Covariance Type:            nonrobust                                         \n",
            "==============================================================================\n",
            "                 coef    std err          t      P>|t|      [0.025      0.975]\n",
            "------------------------------------------------------------------------------\n",
            "Intercept     27.0453      0.007   3943.652      0.000      27.032      27.059\n",
            "A_cube      9.198e-05   1.78e-08   5160.450      0.000    9.19e-05     9.2e-05\n",
            "==============================================================================\n",
            "Omnibus:                   841310.169   Durbin-Watson:                   1.999\n",
            "Prob(Omnibus):                  0.000   Jarque-Bera (JB):           463260.845\n",
            "Skew:                          -0.608   Prob(JB):                         0.00\n",
            "Kurtosis:                       2.136   Cond. No.                     5.14e+05\n",
            "==============================================================================\n",
            "\n",
            "Warnings:\n",
            "[1] Standard Errors assume that the covariance matrix of the errors is correctly specified.\n",
            "[2] The condition number is large, 5.14e+05. This might indicate that there are\n",
            "strong multicollinearity or other numerical problems.\n",
            "Intercept    27.045333\n",
            "A_cube        0.000092\n",
            "dtype: float64\n",
            "R-squared : 0.8419235145049382\n"
          ],
          "name": "stdout"
        }
      ]
    },
    {
      "cell_type": "code",
      "metadata": {
        "id": "HLdpW7DqI3Jb",
        "colab_type": "code",
        "colab": {}
      },
      "source": [
        "#Creating a function that would give information between the variables in a dataset using OLS."
      ],
      "execution_count": 0,
      "outputs": []
    },
    {
      "cell_type": "code",
      "metadata": {
        "id": "NHWmfLw7LDv5",
        "colab_type": "code",
        "outputId": "4383ab13-4fa9-450b-9e0d-d118bdcd18b2",
        "colab": {
          "base_uri": "https://localhost:8080/",
          "height": 34
        }
      },
      "source": [
        "result = sm.ols(formula=\"A ~ A_cube\", data=df1).fit()\n",
        "result.rsquared"
      ],
      "execution_count": 17,
      "outputs": [
        {
          "output_type": "execute_result",
          "data": {
            "text/plain": [
              "0.8419235145049382"
            ]
          },
          "metadata": {
            "tags": []
          },
          "execution_count": 17
        }
      ]
    },
    {
      "cell_type": "code",
      "metadata": {
        "id": "3Poh_RXULNWz",
        "colab_type": "code",
        "outputId": "6ed62e03-0691-4158-c354-b30f8e5c99fd",
        "colab": {
          "base_uri": "https://localhost:8080/",
          "height": 34
        }
      },
      "source": [
        "#Let's check how many variables are there in the dataframe\n",
        "n = len(df1.columns)\n",
        "#and store their names\n",
        "variables = df1.columns\n",
        "#Let's run a regression between each variable ( n choose k, combinatorial function. But k is always equal to 2)\n",
        "def nCk(n):\n",
        "    f = math.factorial\n",
        "    return int(f(n) / f(2) / f(n-2))\n",
        "#That's just a check, let's use\n",
        "comb = [\",\".join(map(str, comb)) for comb in combinations(variables, 2)]\n",
        "#And to be sure:\n",
        "print(len(comb) == (nCk(n)))"
      ],
      "execution_count": 18,
      "outputs": [
        {
          "output_type": "stream",
          "text": [
            "True\n"
          ],
          "name": "stdout"
        }
      ]
    },
    {
      "cell_type": "code",
      "metadata": {
        "id": "bfYvIH0mM5iM",
        "colab_type": "code",
        "outputId": "240c57a8-5cc1-4e73-c7c5-ddf50e4eabf7",
        "colab": {
          "base_uri": "https://localhost:8080/",
          "height": 221
        }
      },
      "source": [
        "#Let's run a linear regression for each distinct pair of random variables\n",
        "res = []\n",
        "for i in comb:\n",
        "  temp1 = (i.split(',')[0])\n",
        "  temp2 = (i.split(',')[1])\n",
        "  frm = (temp1 + \" ~ \"+ temp2)\n",
        "  print(frm)\n",
        "  result = sm.ols(formula=frm, data=df1).fit()\n",
        "  print(result.rsquared)\n",
        "  res.append(result.rsquared)"
      ],
      "execution_count": 19,
      "outputs": [
        {
          "output_type": "stream",
          "text": [
            "A ~ A_lin\n",
            "1.0\n",
            "A ~ A_quad\n",
            "0.938683310625673\n",
            "A ~ A_cube\n",
            "0.8419235145049382\n",
            "A_lin ~ A_quad\n",
            "0.938683310625673\n",
            "A_lin ~ A_cube\n",
            "0.8419235145049382\n",
            "A_quad ~ A_cube\n",
            "0.9723737714419105\n"
          ],
          "name": "stdout"
        }
      ]
    },
    {
      "cell_type": "code",
      "metadata": {
        "id": "5E07Mb4ZnxlH",
        "colab_type": "code",
        "colab": {}
      },
      "source": [
        "#Converting the results into percentage points\n",
        "res_int = []\n",
        "for i in res:\n",
        "  res_int.append(i*100)"
      ],
      "execution_count": 0,
      "outputs": []
    },
    {
      "cell_type": "code",
      "metadata": {
        "id": "X-yVBkGcM8Mc",
        "colab_type": "code",
        "colab": {}
      },
      "source": [
        "#Defining a function that converts a list into a lower triangular numpy matrix \n",
        "#Credits to: https://stackoverflow.com/questions/51439271/convert-1d-array-to-lower-triangular-matrix\n",
        "\n",
        "def fill_lower_diag(a):\n",
        "    n = int(np.sqrt(len(a)*2))+1\n",
        "    mask = np.tri(n,dtype=bool, k=-1) # or np.arange(n)[:,None] > np.arange(n)\n",
        "    out = np.zeros((n,n),dtype=int)\n",
        "    out[mask] = a\n",
        "    return out"
      ],
      "execution_count": 0,
      "outputs": []
    },
    {
      "cell_type": "code",
      "metadata": {
        "id": "0O8TGn__OVcc",
        "colab_type": "code",
        "colab": {}
      },
      "source": [
        "#Building the lower triangular matrix\n",
        "lower = fill_lower_diag(res_int)\n",
        "#Transposing it to create the upper triangular matrix counterpart and adding them together\n",
        "full = lower + lower.T\n",
        "#Filling the diagonal with perfect linear correlation score = 100%\n",
        "np.fill_diagonal(full, 100)\n",
        "#Assembling dataframe\n",
        "output_dataframe = pd.DataFrame(data=full, columns=df1.columns, index=df1.columns)"
      ],
      "execution_count": 0,
      "outputs": []
    },
    {
      "cell_type": "code",
      "metadata": {
        "id": "IWs2u6Clen22",
        "colab_type": "code",
        "outputId": "ef203779-bddc-4189-a6b3-3ee0f09f34b9",
        "colab": {
          "base_uri": "https://localhost:8080/",
          "height": 173
        }
      },
      "source": [
        "#Result\n",
        "output_dataframe"
      ],
      "execution_count": 23,
      "outputs": [
        {
          "output_type": "execute_result",
          "data": {
            "text/html": [
              "<div>\n",
              "<style scoped>\n",
              "    .dataframe tbody tr th:only-of-type {\n",
              "        vertical-align: middle;\n",
              "    }\n",
              "\n",
              "    .dataframe tbody tr th {\n",
              "        vertical-align: top;\n",
              "    }\n",
              "\n",
              "    .dataframe thead th {\n",
              "        text-align: right;\n",
              "    }\n",
              "</style>\n",
              "<table border=\"1\" class=\"dataframe\">\n",
              "  <thead>\n",
              "    <tr style=\"text-align: right;\">\n",
              "      <th></th>\n",
              "      <th>A</th>\n",
              "      <th>A_lin</th>\n",
              "      <th>A_quad</th>\n",
              "      <th>A_cube</th>\n",
              "    </tr>\n",
              "  </thead>\n",
              "  <tbody>\n",
              "    <tr>\n",
              "      <th>A</th>\n",
              "      <td>100</td>\n",
              "      <td>100</td>\n",
              "      <td>93</td>\n",
              "      <td>93</td>\n",
              "    </tr>\n",
              "    <tr>\n",
              "      <th>A_lin</th>\n",
              "      <td>100</td>\n",
              "      <td>100</td>\n",
              "      <td>84</td>\n",
              "      <td>84</td>\n",
              "    </tr>\n",
              "    <tr>\n",
              "      <th>A_quad</th>\n",
              "      <td>93</td>\n",
              "      <td>84</td>\n",
              "      <td>100</td>\n",
              "      <td>97</td>\n",
              "    </tr>\n",
              "    <tr>\n",
              "      <th>A_cube</th>\n",
              "      <td>93</td>\n",
              "      <td>84</td>\n",
              "      <td>97</td>\n",
              "      <td>100</td>\n",
              "    </tr>\n",
              "  </tbody>\n",
              "</table>\n",
              "</div>"
            ],
            "text/plain": [
              "          A  A_lin  A_quad  A_cube\n",
              "A       100    100      93      93\n",
              "A_lin   100    100      84      84\n",
              "A_quad   93     84     100      97\n",
              "A_cube   93     84      97     100"
            ]
          },
          "metadata": {
            "tags": []
          },
          "execution_count": 23
        }
      ]
    },
    {
      "cell_type": "code",
      "metadata": {
        "id": "_0Hy9pMlNRB4",
        "colab_type": "code",
        "outputId": "f30847c6-617c-4127-f8b0-f72f2789bfc8",
        "colab": {
          "base_uri": "https://localhost:8080/",
          "height": 282
        }
      },
      "source": [
        "#Converting the results to an heatmap\n",
        "ax = plt.axes()\n",
        "sns.heatmap(output_dataframe, vmin=0, vmax=100, annot=True, fmt=\"d\", linewidths=.5)\n",
        "ax.set_title('Linear Correlation across variables')\n",
        "None"
      ],
      "execution_count": 24,
      "outputs": [
        {
          "output_type": "display_data",
          "data": {
            "image/png": "[encoded data removed]",
            "text/plain": [
              "<Figure size 432x288 with 2 Axes>"
            ]
          },
          "metadata": {
            "tags": []
          }
        }
      ]
    },
    {
      "cell_type": "code",
      "metadata": {
        "id": "d_tfN2O9WDaH",
        "colab_type": "code",
        "colab": {}
      },
      "source": [
        ""
      ],
      "execution_count": 0,
      "outputs": []
    }
  ]
}